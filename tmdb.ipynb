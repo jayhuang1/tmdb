{
 "cells": [
  {
   "cell_type": "markdown",
   "metadata": {},
   "source": [
    "# Predicting Box Office Revenue\n",
    "\n",
    "* Author: Jay Huang\n",
    "* E-mail: askjayhuang at gmail dot com\n",
    "* GitHub: https://github.com/jayhuang1\n",
    "* Created: 2018-01-17\n",
    "\n",
    "This workshop predicts box office revenue of a movie using the TMDB 5000 dataset (https://www.kaggle.com/tmdb/tmdb-movie-metadata/data). A regression algorithm will be used to predict revenue based on variables such as budget, genre, popularity, and runtime."
   ]
  },
  {
   "cell_type": "markdown",
   "metadata": {},
   "source": [
    "## Data Ingestion\n",
    "\n",
    "Two csv files are downloaded from Kaggle into a data directory and imported into DataFrames:"
   ]
  },
  {
   "cell_type": "code",
   "execution_count": 1,
   "metadata": {},
   "outputs": [],
   "source": [
    "import pandas as pd\n",
    "\n",
    "MOVIES_PATH = 'data/tmdb_5000_movies.csv'\n",
    "CREDITS_PATH = 'data/tmdb_5000_credits.csv'\n",
    "\n",
    "df_movies = pd.read_csv(MOVIES_PATH)\n",
    "df_credits = pd.read_csv(CREDITS_PATH)\n",
    "df_merged = pd.merge(df_movies, df_credits, left_on='id', right_on='movie_id')"
   ]
  },
  {
   "cell_type": "markdown",
   "metadata": {},
   "source": [
    "## Data Wrangling\n",
    "\n",
    "Let's prepare the dataset for machine learning by dropping instances with missing revenue, converting string values into a list of data we want to use, and dropping any variables that aren't relevant to our regression problem:  "
   ]
  },
  {
   "cell_type": "code",
   "execution_count": 2,
   "metadata": {},
   "outputs": [],
   "source": [
    "def wrangle_df(df):\n",
    "    \"\"\"Wrangle movies DataFrame.\"\"\"\n",
    "    # Drop columns\n",
    "    df.drop(['title_x', 'title_y', 'id', 'movie_id', 'homepage', 'original_language', 'overview', 'production_countries', 'spoken_languages', 'status', 'tagline', 'release_date'], axis=1, inplace=True)\n",
    "\n",
    "    # Drop row with missing revenue data\n",
    "    df = df[df.revenue != 0]\n",
    "\n",
    "    # Convert strings into list of wanted values\n",
    "    df.cast = [eval(x) for x in df.cast]\n",
    "    for idx, movie in df.cast.iteritems():\n",
    "        cast = []\n",
    "        for character in movie:\n",
    "            cast.append(character['name'])\n",
    "        df.cast.set_value(idx, cast)\n",
    "\n",
    "    df.crew = [eval(x) for x in df.crew]\n",
    "    directors_all = []\n",
    "    writers_all = []\n",
    "    for idx, movie in df.crew.iteritems():\n",
    "        directors = []\n",
    "        writers = []\n",
    "        for crew in movie:\n",
    "            if crew['job'] == 'Director':\n",
    "                directors.append(crew['name'])\n",
    "            if crew['department'] == 'Writing':\n",
    "                writers.append(crew['name'])\n",
    "        directors_all.append(list(set(directors)))\n",
    "        writers_all.append(list(set(writers)))\n",
    "    df = df.assign(directors=directors_all, writers=writers_all)\n",
    "    # df['directors'] = directors_all\n",
    "    # df['writers'] = writers_all\n",
    "    df.drop('crew', axis=1, inplace=True)\n",
    "\n",
    "    df.genres = [eval(x) for x in df.genres]\n",
    "    for idx, movie in df.genres.iteritems():\n",
    "        genres = []\n",
    "        for genre in movie:\n",
    "            genres.append(genre['name'])\n",
    "        df.genres.set_value(idx, genres)\n",
    "\n",
    "    df.keywords = [eval(x) for x in df.keywords]\n",
    "    for idx, movie in df.keywords.iteritems():\n",
    "        keywords = []\n",
    "        for keyword in movie:\n",
    "            keywords.append(keyword['name'])\n",
    "        df.keywords.set_value(idx, keywords)\n",
    "\n",
    "    df.production_companies = [eval(x) for x in df.production_companies]\n",
    "    for idx, movie in df.production_companies.iteritems():\n",
    "        companies = []\n",
    "        for company in movie:\n",
    "            companies.append(company['name'])\n",
    "        df.production_companies.set_value(idx, companies)\n",
    "\n",
    "    # Re-arrange index and columns\n",
    "    df = df.reindex(columns=['original_title', 'runtime', 'genres', 'keywords', 'production_companies',\n",
    "                             'cast', 'directors', 'writers', 'vote_average', 'vote_count', 'popularity', 'budget', 'revenue'])\n",
    "    df.set_index('original_title', drop=True, inplace=True)\n",
    "\n",
    "    df.drop(['keywords', 'production_companies', 'cast', 'directors', 'writers'], axis=1, inplace=True)\n",
    "\n",
    "    return df"
   ]
  },
  {
   "cell_type": "code",
   "execution_count": 3,
   "metadata": {},
   "outputs": [
    {
     "name": "stderr",
     "output_type": "stream",
     "text": [
      "/Library/Frameworks/Python.framework/Versions/3.6/lib/python3.6/site-packages/pandas/core/generic.py:3110: SettingWithCopyWarning: \n",
      "A value is trying to be set on a copy of a slice from a DataFrame.\n",
      "Try using .loc[row_indexer,col_indexer] = value instead\n",
      "\n",
      "See the caveats in the documentation: http://pandas.pydata.org/pandas-docs/stable/indexing.html#indexing-view-versus-copy\n",
      "  self[name] = value\n"
     ]
    }
   ],
   "source": [
    "df = wrangle_df(df_merged)"
   ]
  },
  {
   "cell_type": "markdown",
   "metadata": {},
   "source": [
    "## Data Exploration\n",
    "\n",
    "Let's print out the first few rows of our wrangle data:"
   ]
  },
  {
   "cell_type": "code",
   "execution_count": 9,
   "metadata": {},
   "outputs": [
    {
     "data": {
      "text/html": [
       "<div>\n",
       "<style>\n",
       "    .dataframe thead tr:only-child th {\n",
       "        text-align: right;\n",
       "    }\n",
       "\n",
       "    .dataframe thead th {\n",
       "        text-align: left;\n",
       "    }\n",
       "\n",
       "    .dataframe tbody tr th {\n",
       "        vertical-align: top;\n",
       "    }\n",
       "</style>\n",
       "<table border=\"1\" class=\"dataframe\">\n",
       "  <thead>\n",
       "    <tr style=\"text-align: right;\">\n",
       "      <th></th>\n",
       "      <th>runtime</th>\n",
       "      <th>genres</th>\n",
       "      <th>vote_average</th>\n",
       "      <th>vote_count</th>\n",
       "      <th>popularity</th>\n",
       "      <th>budget</th>\n",
       "      <th>revenue</th>\n",
       "    </tr>\n",
       "    <tr>\n",
       "      <th>original_title</th>\n",
       "      <th></th>\n",
       "      <th></th>\n",
       "      <th></th>\n",
       "      <th></th>\n",
       "      <th></th>\n",
       "      <th></th>\n",
       "      <th></th>\n",
       "    </tr>\n",
       "  </thead>\n",
       "  <tbody>\n",
       "    <tr>\n",
       "      <th>Avatar</th>\n",
       "      <td>162.0</td>\n",
       "      <td>[Action, Adventure, Fantasy, Science Fiction]</td>\n",
       "      <td>7.2</td>\n",
       "      <td>11800</td>\n",
       "      <td>150.437577</td>\n",
       "      <td>237000000</td>\n",
       "      <td>2787965087</td>\n",
       "    </tr>\n",
       "    <tr>\n",
       "      <th>Pirates of the Caribbean: At World's End</th>\n",
       "      <td>169.0</td>\n",
       "      <td>[Adventure, Fantasy, Action]</td>\n",
       "      <td>6.9</td>\n",
       "      <td>4500</td>\n",
       "      <td>139.082615</td>\n",
       "      <td>300000000</td>\n",
       "      <td>961000000</td>\n",
       "    </tr>\n",
       "    <tr>\n",
       "      <th>Spectre</th>\n",
       "      <td>148.0</td>\n",
       "      <td>[Action, Adventure, Crime]</td>\n",
       "      <td>6.3</td>\n",
       "      <td>4466</td>\n",
       "      <td>107.376788</td>\n",
       "      <td>245000000</td>\n",
       "      <td>880674609</td>\n",
       "    </tr>\n",
       "    <tr>\n",
       "      <th>The Dark Knight Rises</th>\n",
       "      <td>165.0</td>\n",
       "      <td>[Action, Crime, Drama, Thriller]</td>\n",
       "      <td>7.6</td>\n",
       "      <td>9106</td>\n",
       "      <td>112.312950</td>\n",
       "      <td>250000000</td>\n",
       "      <td>1084939099</td>\n",
       "    </tr>\n",
       "    <tr>\n",
       "      <th>John Carter</th>\n",
       "      <td>132.0</td>\n",
       "      <td>[Action, Adventure, Science Fiction]</td>\n",
       "      <td>6.1</td>\n",
       "      <td>2124</td>\n",
       "      <td>43.926995</td>\n",
       "      <td>260000000</td>\n",
       "      <td>284139100</td>\n",
       "    </tr>\n",
       "  </tbody>\n",
       "</table>\n",
       "</div>"
      ],
      "text/plain": [
       "                                          runtime  \\\n",
       "original_title                                      \n",
       "Avatar                                      162.0   \n",
       "Pirates of the Caribbean: At World's End    169.0   \n",
       "Spectre                                     148.0   \n",
       "The Dark Knight Rises                       165.0   \n",
       "John Carter                                 132.0   \n",
       "\n",
       "                                                                                 genres  \\\n",
       "original_title                                                                            \n",
       "Avatar                                    [Action, Adventure, Fantasy, Science Fiction]   \n",
       "Pirates of the Caribbean: At World's End                   [Adventure, Fantasy, Action]   \n",
       "Spectre                                                      [Action, Adventure, Crime]   \n",
       "The Dark Knight Rises                                  [Action, Crime, Drama, Thriller]   \n",
       "John Carter                                        [Action, Adventure, Science Fiction]   \n",
       "\n",
       "                                          vote_average  vote_count  \\\n",
       "original_title                                                       \n",
       "Avatar                                             7.2       11800   \n",
       "Pirates of the Caribbean: At World's End           6.9        4500   \n",
       "Spectre                                            6.3        4466   \n",
       "The Dark Knight Rises                              7.6        9106   \n",
       "John Carter                                        6.1        2124   \n",
       "\n",
       "                                          popularity     budget     revenue  \n",
       "original_title                                                               \n",
       "Avatar                                    150.437577  237000000  2787965087  \n",
       "Pirates of the Caribbean: At World's End  139.082615  300000000   961000000  \n",
       "Spectre                                   107.376788  245000000   880674609  \n",
       "The Dark Knight Rises                     112.312950  250000000  1084939099  \n",
       "John Carter                                43.926995  260000000   284139100  "
      ]
     },
     "execution_count": 9,
     "metadata": {},
     "output_type": "execute_result"
    }
   ],
   "source": [
    "df.head()"
   ]
  },
  {
   "cell_type": "markdown",
   "metadata": {},
   "source": [
    "Let's then explore the frequency of genres and the budget/revenue distribution:"
   ]
  },
  {
   "cell_type": "code",
   "execution_count": 7,
   "metadata": {},
   "outputs": [],
   "source": [
    "import matplotlib.pyplot as plt\n",
    "from matplotlib.ticker import FuncFormatter\n",
    "import seaborn as sns\n",
    "from itertools import chain\n",
    "\n",
    "def explore_data(df):\n",
    "    \"\"\"Explore frequency values of data.\"\"\"\n",
    "    genres = list(chain.from_iterable(df.genres))\n",
    "\n",
    "    print('Number of Genres:', len(set(genres)))\n",
    "\n",
    "    sns.set()\n",
    "    ax = sns.countplot(y=genres)\n",
    "    plt.ylabel('Genre')\n",
    "    plt.title('Genre Frequency')\n",
    "    plt.show()\n",
    "\n",
    "    formatter = FuncFormatter(millions_format)\n",
    "    ax = sns.distplot(df.budget, kde=False)\n",
    "    ax.xaxis.set_major_formatter(formatter)\n",
    "    plt.title('Budget Distribution')\n",
    "    plt.show()\n",
    "\n",
    "    ax = sns.distplot(df.revenue, kde=False)\n",
    "    ax.xaxis.set_major_formatter(formatter)\n",
    "    plt.title('Revenue Distribution')\n",
    "    plt.show()\n",
    "    \n",
    "def millions_format(x, pos):\n",
    "    'The two args are the value and tick position'\n",
    "    return '$%1.1fM' % (x * 1e-6)"
   ]
  },
  {
   "cell_type": "code",
   "execution_count": 8,
   "metadata": {},
   "outputs": [
    {
     "name": "stdout",
     "output_type": "stream",
     "text": [
      "Number of Genres: 19\n"
     ]
    },
    {
     "data": {
      "image/png": "[encoded data removed]",
      "text/plain": [
       "<matplotlib.figure.Figure at 0x113e5ecf8>"
      ]
     },
     "metadata": {},
     "output_type": "display_data"
    },
    {
     "data": {
      "image/png": "[encoded data removed]",
      "text/plain": [
       "<matplotlib.figure.Figure at 0x1123e9e48>"
      ]
     },
     "metadata": {},
     "output_type": "display_data"
    },
    {
     "data": {
      "image/png": "[encoded data removed]",
      "text/plain": [
       "<matplotlib.figure.Figure at 0x1146b16a0>"
      ]
     },
     "metadata": {},
     "output_type": "display_data"
    }
   ],
   "source": [
    "explore_data(df)"
   ]
  },
  {
   "cell_type": "markdown",
   "metadata": {},
   "source": [
    "As we can see, the most common genres are drama, comedy, and thriller. Budget and revenue appear to have a similar distribution skewed to the left. Let's keep this in mind for when we determine the relationship between budget and revenue after we fit our regression model."
   ]
  },
  {
   "cell_type": "markdown",
   "metadata": {},
   "source": [
    "## Model Building"
   ]
  },
  {
   "cell_type": "markdown",
   "metadata": {},
   "source": [
    "Since machine learning models don't take a list of values as inputs, we have to one hot encode the list of genres into a plurality of columns:"
   ]
  },
  {
   "cell_type": "code",
   "execution_count": 10,
   "metadata": {},
   "outputs": [],
   "source": [
    "from sklearn.model_selection import train_test_split, GridSearchCV\n",
    "from sklearn.metrics import mean_squared_error, r2_score\n",
    "\n",
    "from sklearn.pipeline import Pipeline\n",
    "from sklearn.preprocessing import MultiLabelBinarizer\n",
    "from sklearn.linear_model import LinearRegression\n",
    "\n",
    "def multi_label_binarize(data):\n",
    "    mlb = MultiLabelBinarizer()\n",
    "\n",
    "    for feature in categorical_features:\n",
    "        data[feature] = mlb.fit_transform(data[feature]).tolist()\n",
    "        features = list(mlb.classes_)\n",
    "        data[features] = pd.DataFrame(data[feature].values.tolist(), index=data.index)\n",
    "        data.drop(feature, axis=1, inplace=True)\n",
    "\n",
    "    return data"
   ]
  },
  {
   "cell_type": "code",
   "execution_count": 11,
   "metadata": {},
   "outputs": [],
   "source": [
    "# Set X and y\n",
    "X = df.drop('revenue', axis=1)\n",
    "y = df.revenue\n",
    "\n",
    "# Find categorical features in DataFrame\n",
    "categorical_features = [column for column in X.columns if X[column].dtype == 'object']\n",
    "\n",
    "# Binarize categorical features\n",
    "X = multi_label_binarize(X)"
   ]
  },
  {
   "cell_type": "markdown",
   "metadata": {},
   "source": [
    "Let's take a look at the data after the one hot encoding:"
   ]
  },
  {
   "cell_type": "code",
   "execution_count": 12,
   "metadata": {},
   "outputs": [
    {
     "data": {
      "text/html": [
       "<div>\n",
       "<style>\n",
       "    .dataframe thead tr:only-child th {\n",
       "        text-align: right;\n",
       "    }\n",
       "\n",
       "    .dataframe thead th {\n",
       "        text-align: left;\n",
       "    }\n",
       "\n",
       "    .dataframe tbody tr th {\n",
       "        vertical-align: top;\n",
       "    }\n",
       "</style>\n",
       "<table border=\"1\" class=\"dataframe\">\n",
       "  <thead>\n",
       "    <tr style=\"text-align: right;\">\n",
       "      <th></th>\n",
       "      <th>runtime</th>\n",
       "      <th>vote_average</th>\n",
       "      <th>vote_count</th>\n",
       "      <th>popularity</th>\n",
       "      <th>budget</th>\n",
       "      <th>Action</th>\n",
       "      <th>Adventure</th>\n",
       "      <th>Animation</th>\n",
       "      <th>Comedy</th>\n",
       "      <th>Crime</th>\n",
       "      <th>...</th>\n",
       "      <th>Foreign</th>\n",
       "      <th>History</th>\n",
       "      <th>Horror</th>\n",
       "      <th>Music</th>\n",
       "      <th>Mystery</th>\n",
       "      <th>Romance</th>\n",
       "      <th>Science Fiction</th>\n",
       "      <th>Thriller</th>\n",
       "      <th>War</th>\n",
       "      <th>Western</th>\n",
       "    </tr>\n",
       "    <tr>\n",
       "      <th>original_title</th>\n",
       "      <th></th>\n",
       "      <th></th>\n",
       "      <th></th>\n",
       "      <th></th>\n",
       "      <th></th>\n",
       "      <th></th>\n",
       "      <th></th>\n",
       "      <th></th>\n",
       "      <th></th>\n",
       "      <th></th>\n",
       "      <th></th>\n",
       "      <th></th>\n",
       "      <th></th>\n",
       "      <th></th>\n",
       "      <th></th>\n",
       "      <th></th>\n",
       "      <th></th>\n",
       "      <th></th>\n",
       "      <th></th>\n",
       "      <th></th>\n",
       "      <th></th>\n",
       "    </tr>\n",
       "  </thead>\n",
       "  <tbody>\n",
       "    <tr>\n",
       "      <th>Avatar</th>\n",
       "      <td>162.0</td>\n",
       "      <td>7.2</td>\n",
       "      <td>11800</td>\n",
       "      <td>150.437577</td>\n",
       "      <td>237000000</td>\n",
       "      <td>1</td>\n",
       "      <td>1</td>\n",
       "      <td>0</td>\n",
       "      <td>0</td>\n",
       "      <td>0</td>\n",
       "      <td>...</td>\n",
       "      <td>0</td>\n",
       "      <td>0</td>\n",
       "      <td>0</td>\n",
       "      <td>0</td>\n",
       "      <td>0</td>\n",
       "      <td>0</td>\n",
       "      <td>1</td>\n",
       "      <td>0</td>\n",
       "      <td>0</td>\n",
       "      <td>0</td>\n",
       "    </tr>\n",
       "    <tr>\n",
       "      <th>Pirates of the Caribbean: At World's End</th>\n",
       "      <td>169.0</td>\n",
       "      <td>6.9</td>\n",
       "      <td>4500</td>\n",
       "      <td>139.082615</td>\n",
       "      <td>300000000</td>\n",
       "      <td>1</td>\n",
       "      <td>1</td>\n",
       "      <td>0</td>\n",
       "      <td>0</td>\n",
       "      <td>0</td>\n",
       "      <td>...</td>\n",
       "      <td>0</td>\n",
       "      <td>0</td>\n",
       "      <td>0</td>\n",
       "      <td>0</td>\n",
       "      <td>0</td>\n",
       "      <td>0</td>\n",
       "      <td>0</td>\n",
       "      <td>0</td>\n",
       "      <td>0</td>\n",
       "      <td>0</td>\n",
       "    </tr>\n",
       "    <tr>\n",
       "      <th>Spectre</th>\n",
       "      <td>148.0</td>\n",
       "      <td>6.3</td>\n",
       "      <td>4466</td>\n",
       "      <td>107.376788</td>\n",
       "      <td>245000000</td>\n",
       "      <td>1</td>\n",
       "      <td>1</td>\n",
       "      <td>0</td>\n",
       "      <td>0</td>\n",
       "      <td>1</td>\n",
       "      <td>...</td>\n",
       "      <td>0</td>\n",
       "      <td>0</td>\n",
       "      <td>0</td>\n",
       "      <td>0</td>\n",
       "      <td>0</td>\n",
       "      <td>0</td>\n",
       "      <td>0</td>\n",
       "      <td>0</td>\n",
       "      <td>0</td>\n",
       "      <td>0</td>\n",
       "    </tr>\n",
       "    <tr>\n",
       "      <th>The Dark Knight Rises</th>\n",
       "      <td>165.0</td>\n",
       "      <td>7.6</td>\n",
       "      <td>9106</td>\n",
       "      <td>112.312950</td>\n",
       "      <td>250000000</td>\n",
       "      <td>1</td>\n",
       "      <td>0</td>\n",
       "      <td>0</td>\n",
       "      <td>0</td>\n",
       "      <td>1</td>\n",
       "      <td>...</td>\n",
       "      <td>0</td>\n",
       "      <td>0</td>\n",
       "      <td>0</td>\n",
       "      <td>0</td>\n",
       "      <td>0</td>\n",
       "      <td>0</td>\n",
       "      <td>0</td>\n",
       "      <td>1</td>\n",
       "      <td>0</td>\n",
       "      <td>0</td>\n",
       "    </tr>\n",
       "    <tr>\n",
       "      <th>John Carter</th>\n",
       "      <td>132.0</td>\n",
       "      <td>6.1</td>\n",
       "      <td>2124</td>\n",
       "      <td>43.926995</td>\n",
       "      <td>260000000</td>\n",
       "      <td>1</td>\n",
       "      <td>1</td>\n",
       "      <td>0</td>\n",
       "      <td>0</td>\n",
       "      <td>0</td>\n",
       "      <td>...</td>\n",
       "      <td>0</td>\n",
       "      <td>0</td>\n",
       "      <td>0</td>\n",
       "      <td>0</td>\n",
       "      <td>0</td>\n",
       "      <td>0</td>\n",
       "      <td>1</td>\n",
       "      <td>0</td>\n",
       "      <td>0</td>\n",
       "      <td>0</td>\n",
       "    </tr>\n",
       "  </tbody>\n",
       "</table>\n",
       "<p>5 rows × 24 columns</p>\n",
       "</div>"
      ],
      "text/plain": [
       "                                          runtime  vote_average  vote_count  \\\n",
       "original_title                                                                \n",
       "Avatar                                      162.0           7.2       11800   \n",
       "Pirates of the Caribbean: At World's End    169.0           6.9        4500   \n",
       "Spectre                                     148.0           6.3        4466   \n",
       "The Dark Knight Rises                       165.0           7.6        9106   \n",
       "John Carter                                 132.0           6.1        2124   \n",
       "\n",
       "                                          popularity     budget  Action  \\\n",
       "original_title                                                            \n",
       "Avatar                                    150.437577  237000000       1   \n",
       "Pirates of the Caribbean: At World's End  139.082615  300000000       1   \n",
       "Spectre                                   107.376788  245000000       1   \n",
       "The Dark Knight Rises                     112.312950  250000000       1   \n",
       "John Carter                                43.926995  260000000       1   \n",
       "\n",
       "                                          Adventure  Animation  Comedy  Crime  \\\n",
       "original_title                                                                  \n",
       "Avatar                                            1          0       0      0   \n",
       "Pirates of the Caribbean: At World's End          1          0       0      0   \n",
       "Spectre                                           1          0       0      1   \n",
       "The Dark Knight Rises                             0          0       0      1   \n",
       "John Carter                                       1          0       0      0   \n",
       "\n",
       "                                           ...     Foreign  History  Horror  \\\n",
       "original_title                             ...                                \n",
       "Avatar                                     ...           0        0       0   \n",
       "Pirates of the Caribbean: At World's End   ...           0        0       0   \n",
       "Spectre                                    ...           0        0       0   \n",
       "The Dark Knight Rises                      ...           0        0       0   \n",
       "John Carter                                ...           0        0       0   \n",
       "\n",
       "                                          Music  Mystery  Romance  \\\n",
       "original_title                                                      \n",
       "Avatar                                        0        0        0   \n",
       "Pirates of the Caribbean: At World's End      0        0        0   \n",
       "Spectre                                       0        0        0   \n",
       "The Dark Knight Rises                         0        0        0   \n",
       "John Carter                                   0        0        0   \n",
       "\n",
       "                                          Science Fiction  Thriller  War  \\\n",
       "original_title                                                             \n",
       "Avatar                                                  1         0    0   \n",
       "Pirates of the Caribbean: At World's End                0         0    0   \n",
       "Spectre                                                 0         0    0   \n",
       "The Dark Knight Rises                                   0         1    0   \n",
       "John Carter                                             1         0    0   \n",
       "\n",
       "                                          Western  \n",
       "original_title                                     \n",
       "Avatar                                          0  \n",
       "Pirates of the Caribbean: At World's End        0  \n",
       "Spectre                                         0  \n",
       "The Dark Knight Rises                           0  \n",
       "John Carter                                     0  \n",
       "\n",
       "[5 rows x 24 columns]"
      ]
     },
     "execution_count": 12,
     "metadata": {},
     "output_type": "execute_result"
    }
   ],
   "source": [
    "X.head()"
   ]
  },
  {
   "cell_type": "markdown",
   "metadata": {},
   "source": [
    "Let's then run a simple linear regression on all of the data to determine the coefficients of the variables used to predict revenue:"
   ]
  },
  {
   "cell_type": "code",
   "execution_count": 13,
   "metadata": {},
   "outputs": [
    {
     "name": "stdout",
     "output_type": "stream",
     "text": [
      "runtime $470,921.21\n",
      "vote_average $-1,860,610.79\n",
      "vote_count $66,617.90\n",
      "popularity $240,801.46\n",
      "budget $1.57\n",
      "Action $-6,659,973.49\n",
      "Adventure $20,773,539.84\n",
      "Animation $30,438,896.44\n",
      "Comedy $4,930,764.74\n",
      "Crime $-16,414,526.90\n",
      "Documentary $20,118,814.14\n",
      "Drama $-14,252,781.60\n",
      "Family $24,746,797.60\n",
      "Fantasy $-1,908,431.77\n",
      "Foreign $-6,164,060.08\n",
      "History $-15,222,491.29\n",
      "Horror $10,248,146.84\n",
      "Music $10,452,033.17\n",
      "Mystery $-9,774,930.85\n",
      "Romance $16,600,808.97\n",
      "Science Fiction $-32,615,689.87\n",
      "Thriller $-2,325,417.39\n",
      "War $-15,894,819.24\n",
      "Western $-39,354,049.73\n"
     ]
    },
    {
     "name": "stderr",
     "output_type": "stream",
     "text": [
      "/Library/Frameworks/Python.framework/Versions/3.6/lib/python3.6/site-packages/scipy/linalg/basic.py:1226: RuntimeWarning: internal gelsd driver lwork query error, required iwork dimension not returned. This is likely the result of LAPACK bug 0038, fixed in LAPACK 3.2.2 (released July 21, 2010). Falling back to 'gelss' driver.\n",
      "  warnings.warn(mesg, RuntimeWarning)\n"
     ]
    }
   ],
   "source": [
    "# Fit data into linear regression model\n",
    "regr = LinearRegression()\n",
    "regr.fit(X, y)\n",
    "\n",
    "# Format coefficients into human readable data\n",
    "fl = [\"${:,.2f}\".format(x) for x in list(regr.coef_)]\n",
    "\n",
    "for feature, coef in zip(X.columns, fl):\n",
    "    print(feature, coef)"
   ]
  },
  {
   "cell_type": "markdown",
   "metadata": {},
   "source": [
    "## Model Evaluation\n",
    "\n",
    "Let's then split the data into training and test data to test the accuracy of our model:"
   ]
  },
  {
   "cell_type": "code",
   "execution_count": 15,
   "metadata": {},
   "outputs": [
    {
     "data": {
      "text/plain": [
       "LinearRegression(copy_X=True, fit_intercept=True, n_jobs=1, normalize=False)"
      ]
     },
     "execution_count": 15,
     "metadata": {},
     "output_type": "execute_result"
    }
   ],
   "source": [
    "# Split data into train and test data\n",
    "X_train, X_test, y_train, y_test = train_test_split(X, y, test_size=0.1, random_state=42)\n",
    "\n",
    "regr = LinearRegression()\n",
    "\n",
    "regr.fit(X_train, y_train)"
   ]
  },
  {
   "cell_type": "markdown",
   "metadata": {},
   "source": [
    "Let's then predict revenue using the test data:"
   ]
  },
  {
   "cell_type": "code",
   "execution_count": 17,
   "metadata": {},
   "outputs": [
    {
     "name": "stdout",
     "output_type": "stream",
     "text": [
      "Mean squared error: 14394887629038392.00\n",
      "Variance score: 0.69\n"
     ]
    }
   ],
   "source": [
    "y_pred = regr.predict(X_test)\n",
    "\n",
    "# The mean squared error\n",
    "print(\"Mean squared error: %.2f\"\n",
    "      % mean_squared_error(y_test, y_pred))\n",
    "# Explained variance score: 1 is perfect prediction\n",
    "print('Variance score: %.2f' % r2_score(y_test, y_pred))"
   ]
  },
  {
   "cell_type": "markdown",
   "metadata": {},
   "source": [
    "## Conclusion"
   ]
  },
  {
   "cell_type": "markdown",
   "metadata": {},
   "source": [
    "As we can see, our model has a variance score of 0.69"
   ]
  }
 ],
 "metadata": {
  "kernelspec": {
   "display_name": "Python 3",
   "language": "python",
   "name": "python3"
  },
  "language_info": {
   "codemirror_mode": {
    "name": "ipython",
    "version": 3
   },
   "file_extension": ".py",
   "mimetype": "text/x-python",
   "name": "python",
   "nbconvert_exporter": "python",
   "pygments_lexer": "ipython3",
   "version": "3.6.2"
  }
 },
 "nbformat": 4,
 "nbformat_minor": 2
}
